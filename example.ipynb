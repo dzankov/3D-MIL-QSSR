{
 "cells": [
  {
   "cell_type": "code",
   "execution_count": null,
   "metadata": {},
   "outputs": [],
   "source": [
    "import os\n",
    "\n",
    "from utils import calc_3d_pmapper, scale_descriptors\n",
    "\n",
    "from sklearn.model_selection import train_test_split\n",
    "\n",
    "from miqsar.estimators.wrappers import MIWrapperMLPRegressor, miWrapperMLPRegressor\n",
    "from miqsar.estimators.attention_nets import AttentionNetRegressor\n",
    "from miqsar.estimators.mi_nets import MINetRegressor, miNetRegressor\n",
    "\n",
    "from sklearn.metrics import r2_score"
   ]
  },
  {
   "cell_type": "markdown",
   "metadata": {},
   "source": [
    "Read data"
   ]
  },
  {
   "cell_type": "code",
   "execution_count": null,
   "metadata": {},
   "outputs": [],
   "source": [
    "dataset_file = 'data/data.smi'\n",
    "\n",
    "os.mkdir('descriptors')\n",
    "\n",
    "path = os.path.join('descriptors', 'tmp')\n",
    "os.mkdir(path)"
   ]
  },
  {
   "cell_type": "markdown",
   "metadata": {},
   "source": [
    "Set hyperparameters"
   ]
  },
  {
   "cell_type": "code",
   "execution_count": null,
   "metadata": {},
   "outputs": [],
   "source": [
    "n_epoch = 1000\n",
    "batch_size = 128\n",
    "lr = 0.001\n",
    "weight_decay = 0.001\n",
    "seed = 42\n",
    "init_cuda = True\n",
    "ncpu = 5\n",
    "random_state = 42"
   ]
  },
  {
   "cell_type": "markdown",
   "metadata": {},
   "source": [
    "Calculate descriptors for multiple conformations"
   ]
  },
  {
   "cell_type": "code",
   "execution_count": null,
   "metadata": {},
   "outputs": [],
   "source": [
    "bags, labels, molid = calc_3d_pmapper(dataset_file, nconfs=50, stereo=False, path=path, ncpu=ncpu)\n",
    "x_train, x_test, y_train, y_test, molid_train, molid_test = train_test_split(bags, labels, molid, random_state=random_state)\n",
    "x_train, x_test = scale_descriptors(x_train, x_test)"
   ]
  },
  {
   "cell_type": "markdown",
   "metadata": {},
   "source": [
    "Train MI model"
   ]
  },
  {
   "cell_type": "code",
   "execution_count": null,
   "metadata": {},
   "outputs": [],
   "source": [
    "# train 3D/MI/Bag-AttentionNet\n",
    "ndim = (x_train[0].shape[-1], 256, 128, 64)\n",
    "det_ndim = (64,)\n",
    "\n",
    "att_net = AttentionNetRegressor(ndim=ndim, det_ndim=det_ndim, init_cuda=init_cuda)\n",
    "att_net.fit(x_train, y_train, n_epoch=n_epoch, batch_size=batch_size, weight_decay=weight_decay, lr=lr)\n",
    "\n",
    "predictions = att_net.predict(x_test)\n",
    "conformation_weights = att_net.get_instance_weights(x_test)\n",
    "\n",
    "print('3D/MI/Bag-AttentionNet: r2_score = {:.2f}'.format(r2_score(y_test, predictions)))"
   ]
  },
  {
   "cell_type": "code",
   "execution_count": null,
   "metadata": {},
   "outputs": [],
   "source": []
  },
  {
   "cell_type": "code",
   "execution_count": null,
   "metadata": {},
   "outputs": [],
   "source": []
  },
  {
   "cell_type": "code",
   "execution_count": null,
   "metadata": {},
   "outputs": [],
   "source": []
  },
  {
   "cell_type": "code",
   "execution_count": null,
   "metadata": {},
   "outputs": [],
   "source": []
  }
 ],
 "metadata": {
  "kernelspec": {
   "display_name": "main",
   "language": "python",
   "name": "main"
  },
  "language_info": {
   "codemirror_mode": {
    "name": "ipython",
    "version": 3
   },
   "file_extension": ".py",
   "mimetype": "text/x-python",
   "name": "python",
   "nbconvert_exporter": "python",
   "pygments_lexer": "ipython3",
   "version": "3.6.12"
  }
 },
 "nbformat": 4,
 "nbformat_minor": 1
}
